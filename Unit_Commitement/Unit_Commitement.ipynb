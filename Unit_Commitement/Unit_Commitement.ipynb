{
  "nbformat": 4,
  "nbformat_minor": 0,
  "metadata": {
    "colab": {
      "provenance": [],
      "collapsed_sections": [
        "LpIoYpjHiXGZ",
        "uBPqN6p4DnuM",
        "ATcw_mDdI4Hz",
        "bm_hPDXIr2Tc",
        "Hqxykolgwm3t",
        "pbm4ElDomyop"
      ],
      "include_colab_link": true
    },
    "kernelspec": {
      "name": "python3",
      "display_name": "Python 3"
    },
    "language_info": {
      "name": "python"
    }
  },
  "cells": [
    {
      "cell_type": "markdown",
      "metadata": {
        "id": "view-in-github",
        "colab_type": "text"
      },
      "source": [
        "<a href=\"https://colab.research.google.com/github/MohamedBechir-prog/Optimisation-Projects/blob/main/Unit_Commitement/Unit_Commitement.ipynb\" target=\"_parent\"><img src=\"https://colab.research.google.com/assets/colab-badge.svg\" alt=\"Open In Colab\"/></a>"
      ]
    },
    {
      "cell_type": "markdown",
      "source": [
        "# Unit Commitement Problem"
      ],
      "metadata": {
        "id": "lJ6mdUBlgJWn"
      }
    },
    {
      "cell_type": "markdown",
      "source": [
        "In this notebook, I will incrementally implement a unit commitment problem using Gurobi. The goal is to meet the projected electricity demand at each time interval by optimally dispatching various types of power plants.\n",
        "\n",
        "The time horizon spans a single day, divided into five periods to reflect typical fluctuations in electrical load throughout the day.\n",
        "\n",
        "| Time Period | Demand (MW) |\n",
        "| --- | --- |\n",
        "| 12 pm to 6 am | 15000 |\n",
        "| 6 am to 9 am | 30000 |\n",
        "| 9 am to 3 pm | 25000 |\n",
        "| 3 pm to 6 pm | 40000 |\n",
        "| 6 pm to 12 pm | 27000 |\n",
        "\n",
        "The dataset includes three types of conventional power plants, each characterized by its minimum and maximum power output, the number of units available, and generation costs.\n",
        "\n",
        "\n",
        "| Type | Available Units | Minimum output (MW) | Maximum output (MW) | Generation cost (€/MWh) |\n",
        "| --- | --- | --- | --- | --- |\n",
        "| 1 | 12 |  850 | 2000 |1.5 |\n",
        "| 2 | 10 | 1250 | 1750 |1.38 |\n",
        "| 3 | 5 | 1500 | 4000 |2.35 |\n",
        "\n",
        "The complexity of the model will gradually increase as the script progresses.\n",
        "\n",
        "This project is part of the Optimization coursework from my master's program in Energy Systems Optimization at Mines Paris.\n",
        "\n",
        "The example can also be found in the fifth edition of **Model Building in Mathematical Programming by H. Paul Williams on pages 271-272 and 326-327**."
      ],
      "metadata": {
        "id": "B8L758esgQG4"
      }
    },
    {
      "cell_type": "markdown",
      "source": [
        "## Basic Case"
      ],
      "metadata": {
        "id": "KYK53mLXhDu2"
      }
    },
    {
      "cell_type": "code",
      "source": [
        "!pip install gurobipy"
      ],
      "metadata": {
        "colab": {
          "base_uri": "https://localhost:8080/"
        },
        "id": "fcaom31VCsZo",
        "outputId": "9956f235-22ae-42dc-cbf9-752e0a1e0683"
      },
      "execution_count": 1,
      "outputs": [
        {
          "output_type": "stream",
          "name": "stdout",
          "text": [
            "Collecting gurobipy\n",
            "  Downloading gurobipy-12.0.3-cp312-cp312-manylinux2014_x86_64.manylinux_2_17_x86_64.whl.metadata (16 kB)\n",
            "Downloading gurobipy-12.0.3-cp312-cp312-manylinux2014_x86_64.manylinux_2_17_x86_64.whl (14.3 MB)\n",
            "\u001b[2K   \u001b[90m━━━━━━━━━━━━━━━━━━━━━━━━━━━━━━━━━━━━━━━━\u001b[0m \u001b[32m14.3/14.3 MB\u001b[0m \u001b[31m66.7 MB/s\u001b[0m eta \u001b[36m0:00:00\u001b[0m\n",
            "\u001b[?25hInstalling collected packages: gurobipy\n",
            "Successfully installed gurobipy-12.0.3\n"
          ]
        }
      ]
    },
    {
      "cell_type": "code",
      "execution_count": 2,
      "metadata": {
        "id": "CWL4F-YZbym8"
      },
      "outputs": [],
      "source": [
        "import gurobipy as gp"
      ]
    },
    {
      "cell_type": "code",
      "source": [
        "data = {1 : [12,850,2000,1.5], 2 : [10,1250,1750,1.38], 3 : [5,1500,4000,2.75]}\n",
        "costs = {1 : data[1][3], 2 : data[2][3], 3 : data[3][3]}\n",
        "Pmin = {1 : data[1][1], 2 : data[2][1], 3 : data[3][1]}\n",
        "Pmax = {1 : data[1][2], 2 : data[2][2], 3 : data[3][2]}\n",
        "N = {1 : data[1][0], 2 : data[2][0], 3 : data[3][0]}\n",
        "load = [15000,30000,25000,40000,27000]\n",
        "periods = [i for i in range(1,6)]\n",
        "types = [i for i in range(1,4)]\n",
        "duration = [6,3,6,3,6]"
      ],
      "metadata": {
        "id": "LMHuc9MKhLey"
      },
      "execution_count": 3,
      "outputs": []
    },
    {
      "cell_type": "markdown",
      "source": [
        "## Mathematical Formulation of the Unit Commitment Problem 1.1"
      ],
      "metadata": {
        "id": "LpIoYpjHiXGZ"
      }
    },
    {
      "cell_type": "markdown",
      "source": [
        "We define the following indices:\n",
        "\n",
        "- $i \\in \\mathcal{I}$: set of power plant types  \n",
        "- $t \\in \\mathcal{T}$: set of time periods\n",
        "\n",
        "### 🔧 Decision Variables\n",
        "\n",
        "- $Y_{i,t} \\in \\mathbb{N}$ : number of units of type $i$ operating at time $t$  \n",
        "- $P_{i,t} \\in \\mathbb{R}_{\\geq 0}$: power output of type $i$ at time $t$\n",
        "\n",
        "### 📌 Parameters\n",
        "\n",
        "- $\\text{load}_t$: electricity demand at time $t$  \n",
        "- $P^{\\text{max}}_i$: maximum power output per unit of type $i$  \n",
        "- $P^{\\text{min}}_i$: minimum power output per unit of type $i$  \n",
        "- $N_i$: number of available units of type $i$  \n",
        "- $c_i$: cost per unit of power for type $i$  \n",
        "- $d_t$: duration of time period $t$\n",
        "\n",
        "### ✅ Constraints\n",
        "\n",
        "1. **Demand Satisfaction**  \n",
        "   $\\sum_{i \\in \\mathcal{I}} P_{i,t} \\geq \\text{load}_t \\quad \\forall t \\in \\mathcal{T}$\n",
        "\n",
        "2. **Power Output Bounds**  \n",
        "   $P_{i,t} \\leq P^{\\text{max}}_i \\cdot Y_{i,t} \\quad \\forall i \\in \\mathcal{I}, \\forall t \\in \\mathcal{T}$  \n",
        "   $P_{i,t} \\geq P^{\\text{min}}_i \\cdot Y_{i,t} \\quad \\forall i \\in \\mathcal{I}, \\forall t \\in \\mathcal{T}$\n",
        "\n",
        "3. **Unit Availability**  \n",
        "   $Y_{i,t} \\leq N_i \\quad \\forall i \\in \\mathcal{I}, \\forall t \\in \\mathcal{T}$\n",
        "\n",
        "### 🎯 Objective Function\n",
        "\n",
        "Minimize total generation cost:  \n",
        "$\\min \\sum_{t \\in \\mathcal{T}} \\sum_{i \\in \\mathcal{I}} c_i \\cdot P_{i,t} \\cdot d_t$"
      ],
      "metadata": {
        "id": "A-hut84agCeT"
      }
    },
    {
      "cell_type": "code",
      "source": [
        "model = gp.Model()\n",
        "# Creating variables\n",
        "indices = [(i,t) for i in types for t in periods]\n",
        "Y = model.addVars(indices,lb =0, vtype=gp.GRB.INTEGER,name=[f'Y{i}{t}' for i,t in indices])\n",
        "P = model.addVars(indices,vtype=gp.GRB.CONTINUOUS,name=[f'P{t}' for t in indices])\n",
        "\n",
        "# Constraints\n",
        "for t in periods:\n",
        "  model.addConstr(gp.quicksum(P[i,t] for i in types) >= load[t-1], name=f'Demand_{t}')\n",
        "\n",
        "for i in types:\n",
        "  for t in periods:\n",
        "    model.addConstr(P[i,t] <= Pmax[i]*Y[i,t], name=f'Puissance_Max_{i},{t}')\n",
        "    model.addConstr(P[i,t] >= Pmin[i]*Y[i,t], name=f'Puissance_Min_{i},{t}')\n",
        "    model.addConstr(Y[i,t] <= N[i], name=f'Available_Power_Plant_{i},{t}')\n",
        "\n",
        "# Objective function\n",
        "model.setObjective(gp.quicksum(costs[i]*P[i,t]*duration[t-1] for i,t in indices),gp.GRB.MINIMIZE)\n",
        "\n",
        "# Optimisation\n",
        "model.optimize()\n"
      ],
      "metadata": {
        "colab": {
          "base_uri": "https://localhost:8080/"
        },
        "id": "Nj-k_B4KiVPw",
        "outputId": "eeba1958-695d-424f-f290-3c7c4a0e1ed5"
      },
      "execution_count": 4,
      "outputs": [
        {
          "output_type": "stream",
          "name": "stdout",
          "text": [
            "Restricted license - for non-production use only - expires 2026-11-23\n",
            "Gurobi Optimizer version 12.0.3 build v12.0.3rc0 (linux64 - \"Ubuntu 22.04.4 LTS\")\n",
            "\n",
            "CPU model: Intel(R) Xeon(R) CPU @ 2.20GHz, instruction set [SSE2|AVX|AVX2]\n",
            "Thread count: 1 physical cores, 2 logical processors, using up to 2 threads\n",
            "\n",
            "Optimize a model with 50 rows, 30 columns and 90 nonzeros\n",
            "Model fingerprint: 0x37fef50e\n",
            "Variable types: 15 continuous, 15 integer (0 binary)\n",
            "Coefficient statistics:\n",
            "  Matrix range     [1e+00, 4e+03]\n",
            "  Objective range  [4e+00, 2e+01]\n",
            "  Bounds range     [0e+00, 0e+00]\n",
            "  RHS range        [5e+00, 4e+04]\n",
            "Presolve removed 46 rows and 24 columns\n",
            "Presolve time: 0.00s\n",
            "Presolved: 4 rows, 6 columns, 12 nonzeros\n",
            "Variable types: 0 continuous, 6 integer (0 binary)\n",
            "Found heuristic solution: objective 958050.00000\n",
            "Found heuristic solution: objective 947700.00000\n",
            "Found heuristic solution: objective 933300.00000\n",
            "\n",
            "Root relaxation: objective 8.694000e+05, 2 iterations, 0.00 seconds (0.00 work units)\n",
            "\n",
            "    Nodes    |    Current Node    |     Objective Bounds      |     Work\n",
            " Expl Unexpl |  Obj  Depth IntInf | Incumbent    BestBd   Gap | It/Node Time\n",
            "\n",
            "     0     0 869400.000    0    1 933300.000 869400.000  6.85%     -    0s\n",
            "H    0     0                    873900.00000 869400.000  0.51%     -    0s\n",
            "H    0     0                    869400.00000 869400.000  0.00%     -    0s\n",
            "     0     0 869400.000    0    1 869400.000 869400.000  0.00%     -    0s\n",
            "\n",
            "Explored 1 nodes (2 simplex iterations) in 0.04 seconds (0.00 work units)\n",
            "Thread count was 2 (of 2 available processors)\n",
            "\n",
            "Solution count 5: 869400 873900 933300 ... 958050\n",
            "\n",
            "Optimal solution found (tolerance 1.00e-04)\n",
            "Best objective 8.694000000000e+05, best bound 8.694000000000e+05, gap 0.0000%\n"
          ]
        }
      ]
    },
    {
      "cell_type": "code",
      "source": [
        "for v in model.getVars():\n",
        "    print('%s %g' % (v.VarName, v.X))"
      ],
      "metadata": {
        "colab": {
          "base_uri": "https://localhost:8080/"
        },
        "id": "swmq3bolDLoO",
        "outputId": "bfe9e989-ba7d-4866-e202-7c74ab7f31c6"
      },
      "execution_count": 5,
      "outputs": [
        {
          "output_type": "stream",
          "name": "stdout",
          "text": [
            "Y11 -0\n",
            "Y12 12\n",
            "Y13 4\n",
            "Y14 12\n",
            "Y15 5\n",
            "Y21 9\n",
            "Y22 10\n",
            "Y23 10\n",
            "Y24 10\n",
            "Y25 10\n",
            "Y31 -0\n",
            "Y32 -0\n",
            "Y33 -0\n",
            "Y34 0\n",
            "Y35 -0\n",
            "P(1, 1) 0\n",
            "P(1, 2) 12500\n",
            "P(1, 3) 7500\n",
            "P(1, 4) 22500\n",
            "P(1, 5) 9500\n",
            "P(2, 1) 15000\n",
            "P(2, 2) 17500\n",
            "P(2, 3) 17500\n",
            "P(2, 4) 17500\n",
            "P(2, 5) 17500\n",
            "P(3, 1) 0\n",
            "P(3, 2) 0\n",
            "P(3, 3) 0\n",
            "P(3, 4) 0\n",
            "P(3, 5) 0\n"
          ]
        }
      ]
    },
    {
      "cell_type": "markdown",
      "source": [
        "## Unit Commitment Problem 1.2\n"
      ],
      "metadata": {
        "id": "uBPqN6p4DnuM"
      }
    },
    {
      "cell_type": "markdown",
      "source": [
        "In this formulation, we introduce fixed costs associated with basic power generation, representing the cost of maintaining minimum output levels. Additionally, we revise the generation cost structure: variable costs are now applied only to the portion of power produced above the minimum threshold.\n",
        "\n",
        "- Fixed generation costs: $C^{\\text{base}}_i$ applied per unit committed ($Y_{i,t}$)\n",
        "- Variable generation costs: $c_i$ applied only to power produced above the minimum output\n",
        "\n",
        "| Type | Cost per hour (€/h) | Cost in €/MWh above minimum | Startup cost (€)|\n",
        "| --- | --- | --- | --- |\n",
        "| 1 | 1000 | 2.00 | 2000 |\n",
        "| 2 | 2600 | 1.30 | 1000 |\n",
        "| 3 | 3000 | 3.00 | 500 |\n",
        "\n",
        "The revised objective function becomes:\n",
        "\n",
        "$\\min \\sum_{t \\in \\mathcal{T}} \\sum_{i \\in \\mathcal{I}} \\left[ c_i \\cdot P_{i,t} + C^{\\text{base}}_i \\cdot Y_{i,t} - c_i \\cdot P^{\\text{min}}_i \\cdot Y_{i,t} \\right] \\cdot d_t$"
      ],
      "metadata": {
        "id": "5RH5RmP6icTT"
      }
    },
    {
      "cell_type": "code",
      "source": [
        "# Modification of input data\n",
        "data = {1 : [12,850,2000,2,1000,2000], 2 : [10,1250,1750,1.3,2600,1000], 3 : [5,1500,4000,3,3000,500]}\n",
        "types, N, Pmin, Pmax, costs, Cbase, Cstart  = gp.multidict(data)\n",
        "\n",
        "Newobj = gp.quicksum((costs[i]*P[i,t]+ Cbase[i]*Y[i,t] - costs[i]*Pmin[i]*Y[i,t])*duration[t-1] for i,t in indices)\n",
        "model.setObjective(Newobj,gp.GRB.MINIMIZE)\n",
        "model.optimize()"
      ],
      "metadata": {
        "colab": {
          "base_uri": "https://localhost:8080/"
        },
        "id": "owTrT3tDDsoo",
        "outputId": "30464488-a077-44ca-fdf3-9ba8d6f396f4"
      },
      "execution_count": 6,
      "outputs": [
        {
          "output_type": "stream",
          "name": "stdout",
          "text": [
            "Gurobi Optimizer version 12.0.3 build v12.0.3rc0 (linux64 - \"Ubuntu 22.04.4 LTS\")\n",
            "\n",
            "CPU model: Intel(R) Xeon(R) CPU @ 2.20GHz, instruction set [SSE2|AVX|AVX2]\n",
            "Thread count: 1 physical cores, 2 logical processors, using up to 2 threads\n",
            "\n",
            "Optimize a model with 50 rows, 30 columns and 90 nonzeros\n",
            "Model fingerprint: 0x367d385d\n",
            "Variable types: 15 continuous, 15 integer (0 binary)\n",
            "Coefficient statistics:\n",
            "  Matrix range     [1e+00, 4e+03]\n",
            "  Objective range  [4e+00, 9e+03]\n",
            "  Bounds range     [0e+00, 0e+00]\n",
            "  RHS range        [5e+00, 4e+04]\n",
            "\n",
            "MIP start from previous solve produced solution with objective 1.08045e+06 (0.04s)\n",
            "Loaded MIP start from previous solve with objective 1.08045e+06\n",
            "\n",
            "Presolve removed 46 rows and 24 columns\n",
            "Presolve time: 0.01s\n",
            "Presolved: 4 rows, 6 columns, 12 nonzeros\n",
            "Found heuristic solution: objective 1006800.0000\n",
            "Variable types: 0 continuous, 6 integer (0 binary)\n",
            "\n",
            "Root relaxation: objective 9.780000e+05, 1 iterations, 0.00 seconds (0.00 work units)\n",
            "\n",
            "    Nodes    |    Current Node    |     Objective Bounds      |     Work\n",
            " Expl Unexpl |  Obj  Depth IntInf | Incumbent    BestBd   Gap | It/Node Time\n",
            "\n",
            "     0     0 978000.000    0    1 1006800.00 978000.000  2.86%     -    0s\n",
            "H    0     0                    985800.00000 978000.000  0.79%     -    0s\n",
            "H    0     0                    980340.00000 978000.000  0.24%     -    0s\n",
            "H    0     0                    978900.00000 978000.000  0.09%     -    0s\n",
            "     0     0 978000.000    0    1 978900.000 978000.000  0.09%     -    0s\n",
            "\n",
            "Explored 1 nodes (1 simplex iterations) in 0.09 seconds (0.00 work units)\n",
            "Thread count was 2 (of 2 available processors)\n",
            "\n",
            "Solution count 5: 978900 980340 985800 ... 1.08045e+06\n",
            "\n",
            "Optimal solution found (tolerance 1.00e-04)\n",
            "Best objective 9.789000000000e+05, best bound 9.789000000000e+05, gap 0.0000%\n"
          ]
        }
      ]
    },
    {
      "cell_type": "markdown",
      "source": [
        "### Introducing Starting up costs"
      ],
      "metadata": {
        "id": "ATcw_mDdI4Hz"
      }
    },
    {
      "cell_type": "markdown",
      "source": [
        "In order to incorporate startup costs, we need to introduce a new **positive** variable $d_{it}$ that accounts for the number of starting units of type $i$ at period $t$.\n",
        "\n",
        "For the first period : $d_{i1} = Y_{i1} \\quad \\forall i \\in \\mathcal{I}$\n",
        "\n",
        "For the other periods, it is defined as the difference between the actual number of activated plants and that in the previous period : $ {d_{it}\\geq Y_{it} - Y_{it-1}}  \\quad \\forall i \\in \\mathcal{I} \\quad \\forall t {\\geq 0}$\n",
        "\n",
        "With this formulation, $d_{it}$ will always be equal to the difference of the number of plants between two periods. If the model decides to reduce the number of activated plants, then $d_{it}$ would be equal to 0."
      ],
      "metadata": {
        "id": "eaqeRGqZ3zXv"
      }
    },
    {
      "cell_type": "code",
      "source": [
        "# We define d as the difference between the current number of activated PP and that of the previous period\n",
        "# For the first period, it will be equal to Yit\n",
        "# d is an integer number, always positive because we don't consider the case where we desactivate PPs\n",
        "\n",
        "d = model.addVars(indices,lb=0,vtype=gp.GRB.INTEGER,name=[f'd{i}{t}' for i,t in indices])\n",
        "for i in types:\n",
        "  for t in periods:\n",
        "    if t == 1:\n",
        "      model.addConstr(d[i,t] == Y[i,t], name=f'Activated_PP_{i},{t}')\n",
        "    else:\n",
        "      model.addConstr(d[i,t] >= Y[i,t] - Y[i,t-1], name=f'Activated_PP_{i},{t}')\n",
        "obj = model.getObjective()\n",
        "model.setObjective(obj + gp.quicksum(Cstart[i]*d[i,t] for i,t in indices),gp.GRB.MINIMIZE)\n",
        "model.optimize()"
      ],
      "metadata": {
        "colab": {
          "base_uri": "https://localhost:8080/"
        },
        "id": "tYOOFrHKIBKq",
        "outputId": "2fcad300-8f22-41e4-90ca-50578e05d5a0"
      },
      "execution_count": 7,
      "outputs": [
        {
          "output_type": "stream",
          "name": "stdout",
          "text": [
            "Gurobi Optimizer version 12.0.3 build v12.0.3rc0 (linux64 - \"Ubuntu 22.04.4 LTS\")\n",
            "\n",
            "CPU model: Intel(R) Xeon(R) CPU @ 2.20GHz, instruction set [SSE2|AVX|AVX2]\n",
            "Thread count: 1 physical cores, 2 logical processors, using up to 2 threads\n",
            "\n",
            "Optimize a model with 65 rows, 45 columns and 132 nonzeros\n",
            "Model fingerprint: 0x273e2a99\n",
            "Variable types: 15 continuous, 30 integer (0 binary)\n",
            "Coefficient statistics:\n",
            "  Matrix range     [1e+00, 4e+03]\n",
            "  Objective range  [4e+00, 9e+03]\n",
            "  Bounds range     [0e+00, 0e+00]\n",
            "  RHS range        [5e+00, 4e+04]\n",
            "\n",
            "MIP start from previous solve produced solution with objective 1.0149e+06 (0.02s)\n",
            "Loaded MIP start from previous solve with objective 1.0149e+06\n",
            "\n",
            "Presolve removed 33 rows and 3 columns\n",
            "Presolve time: 0.00s\n",
            "Presolved: 32 rows, 42 columns, 96 nonzeros\n",
            "Variable types: 0 continuous, 42 integer (0 binary)\n",
            "\n",
            "Root relaxation: objective 1.011257e+06, 10 iterations, 0.00 seconds (0.00 work units)\n",
            "\n",
            "    Nodes    |    Current Node    |     Objective Bounds      |     Work\n",
            " Expl Unexpl |  Obj  Depth IntInf | Incumbent    BestBd   Gap | It/Node Time\n",
            "\n",
            "     0     0 1011257.14    0    7 1014900.00 1011257.14  0.36%     -    0s\n",
            "H    0     0                    1014400.0000 1011257.14  0.31%     -    0s\n",
            "     0     0 1012136.65    0   16 1014400.00 1012136.65  0.22%     -    0s\n",
            "     0     0 1012490.83    0   16 1014400.00 1012490.83  0.19%     -    0s\n",
            "     0     0 1012495.30    0   15 1014400.00 1012495.30  0.19%     -    0s\n",
            "     0     0 1013689.80    0    8 1014400.00 1013689.80  0.07%     -    0s\n",
            "     0     0 1014090.30    0    8 1014400.00 1014090.30  0.03%     -    0s\n",
            "\n",
            "Cutting planes:\n",
            "  Gomory: 1\n",
            "  MIR: 6\n",
            "\n",
            "Explored 1 nodes (25 simplex iterations) in 0.07 seconds (0.00 work units)\n",
            "Thread count was 2 (of 2 available processors)\n",
            "\n",
            "Solution count 2: 1.0144e+06 1.0149e+06 \n",
            "\n",
            "Optimal solution found (tolerance 1.00e-04)\n",
            "Best objective 1.014400000000e+06, best bound 1.014400000000e+06, gap 0.0000%\n"
          ]
        }
      ]
    },
    {
      "cell_type": "markdown",
      "source": [
        "### Reserve Constraint"
      ],
      "metadata": {
        "id": "bm_hPDXIr2Tc"
      }
    },
    {
      "cell_type": "markdown",
      "source": [
        "Generators must meet predicted demand, but they must also have sufficient reserve capacity to be able to cope with the situation where actual demand exceeds predicted demand.\n",
        "\n",
        "For each time period $t \\in \\mathcal{T}$, the constraint is :\n",
        "\n",
        "$\\sum_{i \\in \\mathcal{I}} Y_{i,t} \\cdot P^{\\text{max}}_i \\geq (1 + r) \\cdot \\text{load}_t$\n",
        "\n",
        "For this model, the set of selected thermal generators must be able to produce as much as 115% of predicted demand."
      ],
      "metadata": {
        "id": "aJSA43OP7ESF"
      }
    },
    {
      "cell_type": "code",
      "source": [
        "# Reserve is 15%\n",
        "r = 0.15\n",
        "\n",
        "# Adding reserve constraint\n",
        "for t in periods:\n",
        "  model.addConstr(gp.quicksum(Y[i,t]*Pmax[i] for i in types) >= (1+r)*load[t-1], name=f'Reserve_{t}')\n",
        "\n",
        "model.update()\n",
        "model.optimize()"
      ],
      "metadata": {
        "colab": {
          "base_uri": "https://localhost:8080/"
        },
        "id": "oqD6Z8OqsU_6",
        "outputId": "b5a2cf35-71c3-425c-bd67-476625938a55"
      },
      "execution_count": 8,
      "outputs": [
        {
          "output_type": "stream",
          "name": "stdout",
          "text": [
            "Gurobi Optimizer version 12.0.3 build v12.0.3rc0 (linux64 - \"Ubuntu 22.04.4 LTS\")\n",
            "\n",
            "CPU model: Intel(R) Xeon(R) CPU @ 2.20GHz, instruction set [SSE2|AVX|AVX2]\n",
            "Thread count: 1 physical cores, 2 logical processors, using up to 2 threads\n",
            "\n",
            "Optimize a model with 70 rows, 45 columns and 147 nonzeros\n",
            "Model fingerprint: 0x5339dc00\n",
            "Variable types: 15 continuous, 30 integer (0 binary)\n",
            "Coefficient statistics:\n",
            "  Matrix range     [1e+00, 4e+03]\n",
            "  Objective range  [4e+00, 9e+03]\n",
            "  Bounds range     [0e+00, 0e+00]\n",
            "  RHS range        [5e+00, 5e+04]\n",
            "\n",
            "MIP start from previous solve did not produce a new incumbent solution\n",
            "MIP start from previous solve violates constraint Reserve_4 by 4500.000000000\n",
            "\n",
            "Presolve removed 33 rows and 3 columns\n",
            "Presolve time: 0.00s\n",
            "Presolved: 37 rows, 42 columns, 111 nonzeros\n",
            "Variable types: 0 continuous, 42 integer (0 binary)\n",
            "Found heuristic solution: objective 1356800.0000\n",
            "\n",
            "Root relaxation: objective 1.012257e+06, 12 iterations, 0.00 seconds (0.00 work units)\n",
            "\n",
            "    Nodes    |    Current Node    |     Objective Bounds      |     Work\n",
            " Expl Unexpl |  Obj  Depth IntInf | Incumbent    BestBd   Gap | It/Node Time\n",
            "\n",
            "     0     0 1012257.14    0    7 1356800.00 1012257.14  25.4%     -    0s\n",
            "H    0     0                    1082550.0000 1012257.14  6.49%     -    0s\n",
            "H    0     0                    1015540.0000 1012257.14  0.32%     -    0s\n",
            "     0     0 1012983.12    0   15 1015540.00 1012983.12  0.25%     -    0s\n",
            "     0     0 1013337.63    0   14 1015540.00 1013337.63  0.22%     -    0s\n",
            "     0     0 1013351.36    0   13 1015540.00 1013351.36  0.22%     -    0s\n",
            "     0     0 1014439.80    0    8 1015540.00 1014439.80  0.11%     -    0s\n",
            "H    0     0                    1015150.0000 1014439.80  0.07%     -    0s\n",
            "     0     0 1014840.30    0    8 1015150.00 1014840.30  0.03%     -    0s\n",
            "\n",
            "Cutting planes:\n",
            "  Gomory: 1\n",
            "  MIR: 5\n",
            "\n",
            "Explored 1 nodes (26 simplex iterations) in 0.04 seconds (0.00 work units)\n",
            "Thread count was 2 (of 2 available processors)\n",
            "\n",
            "Solution count 4: 1.01515e+06 1.01554e+06 1.08255e+06 1.3568e+06 \n",
            "\n",
            "Optimal solution found (tolerance 1.00e-04)\n",
            "Best objective 1.015150000000e+06, best bound 1.015150000000e+06, gap 0.0000%\n"
          ]
        }
      ]
    },
    {
      "cell_type": "markdown",
      "source": [
        "### Planification cyclique"
      ],
      "metadata": {
        "id": "Hqxykolgwm3t"
      }
    },
    {
      "cell_type": "markdown",
      "source": [
        "In this section, we assume that the daily electricity demand pattern repeats identically from one day to the next. To reflect this, we introduce a **cyclic** option that links the last time period of the current day to the first period of the next day.\n",
        "\n",
        "This cyclic constraint ensures continuity in unit commitment decisions, allowing the model to anticipate the operational state for the following day. It is particularly useful for planning startup/shutdown sequences and maintaining reserve margins across day boundaries.\n",
        "\n",
        "The only change in the model formulation is in the definition of $d_{it}$ where we replaced $Y_{it-1}$ by $Y_{i,prev(t)}$ if the cyclic option is selected."
      ],
      "metadata": {
        "id": "W2J66k7o71Ev"
      }
    },
    {
      "cell_type": "code",
      "source": [
        "# A funtion that returns the previous period based on the selected option\n",
        "def prev(period, option='cyclique'):\n",
        "  if option == 'cyclique':\n",
        "    if period == 1:\n",
        "      return 5\n",
        "  return period-1"
      ],
      "metadata": {
        "id": "_8Ry4JZWsU5a"
      },
      "execution_count": 9,
      "outputs": []
    },
    {
      "cell_type": "code",
      "source": [
        "option = 'cyclique'\n",
        "\n",
        "model = gp.Model()\n",
        "\n",
        "# Creating variables\n",
        "indices = [(i,t) for i in types for t in periods]\n",
        "Y = model.addVars(indices,lb =0, vtype=gp.GRB.INTEGER,name=[f'Y{i}{t}' for i,t in indices])\n",
        "P = model.addVars(indices,vtype=gp.GRB.CONTINUOUS,name=[f'P{t}' for t in indices])\n",
        "\n",
        "# Constraints\n",
        "for t in periods:\n",
        "  model.addConstr(gp.quicksum(P[i,t] for i in types) >= load[t-1], name=f'Demand_{t}')\n",
        "\n",
        "for i in types:\n",
        "  for t in periods:\n",
        "    model.addConstr(P[i,t] <= Pmax[i]*Y[i,t], name=f'Puissance_Max_{i},{t}')\n",
        "    model.addConstr(P[i,t] >= Pmin[i]*Y[i,t], name=f'Puissance_Min_{i},{t}')\n",
        "    model.addConstr(Y[i,t] <= N[i], name=f'Available_Power_Plant_{i},{t}')\n",
        "\n",
        "d = model.addVars(indices,lb=0,vtype=gp.GRB.INTEGER,name=[f'd{i}{t}' for i,t in indices])\n",
        "for i in types:\n",
        "  for t in periods:\n",
        "    if t == 1 and option != 'cyclique':\n",
        "      model.addConstr(d[i,t] == Y[i,t], name=f'Activated_PP_{i},{t}')\n",
        "    else:\n",
        "      model.addConstr(d[i,t] >= Y[i,t] - Y[i,prev(t,option)], name=f'Activated_PP_{i},{t}')\n",
        "\n",
        "r = 0.15\n",
        "for t in periods:\n",
        "  model.addConstr(gp.quicksum(Y[i,t]*Pmax[i] for i in types) >= (1+r)*load[t-1], name=f'Reserve_{t}')\n",
        "\n",
        "# Objective\n",
        "Newobj = gp.quicksum((costs[i]*P[i,t]+ Cbase[i]*Y[i,t] - costs[i]*Pmin[i]*Y[i,t])*duration[t-1]+Cstart[i]*d[i,t] for i,t in indices)\n",
        "model.setObjective(Newobj,gp.GRB.MINIMIZE)\n",
        "\n",
        "model.optimize()"
      ],
      "metadata": {
        "colab": {
          "base_uri": "https://localhost:8080/"
        },
        "id": "6zy8a-28tA4o",
        "outputId": "efb5161a-bcdb-418a-a25d-95da6815e4a6"
      },
      "execution_count": 10,
      "outputs": [
        {
          "output_type": "stream",
          "name": "stdout",
          "text": [
            "Gurobi Optimizer version 12.0.3 build v12.0.3rc0 (linux64 - \"Ubuntu 22.04.4 LTS\")\n",
            "\n",
            "CPU model: Intel(R) Xeon(R) CPU @ 2.20GHz, instruction set [SSE2|AVX|AVX2]\n",
            "Thread count: 1 physical cores, 2 logical processors, using up to 2 threads\n",
            "\n",
            "Optimize a model with 70 rows, 45 columns and 150 nonzeros\n",
            "Model fingerprint: 0xc3eb587b\n",
            "Variable types: 15 continuous, 30 integer (0 binary)\n",
            "Coefficient statistics:\n",
            "  Matrix range     [1e+00, 4e+03]\n",
            "  Objective range  [4e+00, 9e+03]\n",
            "  Bounds range     [0e+00, 0e+00]\n",
            "  RHS range        [5e+00, 5e+04]\n",
            "Presolve removed 30 rows and 0 columns\n",
            "Presolve time: 0.00s\n",
            "Presolved: 40 rows, 45 columns, 120 nonzeros\n",
            "Variable types: 0 continuous, 45 integer (0 binary)\n",
            "Found heuristic solution: objective 1320300.0000\n",
            "\n",
            "Root relaxation: objective 9.855143e+05, 12 iterations, 0.00 seconds (0.00 work units)\n",
            "\n",
            "    Nodes    |    Current Node    |     Objective Bounds      |     Work\n",
            " Expl Unexpl |  Obj  Depth IntInf | Incumbent    BestBd   Gap | It/Node Time\n",
            "\n",
            "     0     0 985514.286    0    7 1320300.00 985514.286  25.4%     -    0s\n",
            "H    0     0                    989150.00000 985514.286  0.37%     -    0s\n",
            "     0     0 986316.450    0   15 989150.000 986316.450  0.29%     -    0s\n",
            "     0     0 986836.308    0   14 989150.000 986836.308  0.23%     -    0s\n",
            "     0     0 986841.667    0   13 989150.000 986841.667  0.23%     -    0s\n",
            "     0     0 987843.878    0   11 989150.000 987843.878  0.13%     -    0s\n",
            "H    0     0                    988540.00000 987843.878  0.07%     -    0s\n",
            "\n",
            "Cutting planes:\n",
            "  Gomory: 2\n",
            "  MIR: 3\n",
            "\n",
            "Explored 1 nodes (26 simplex iterations) in 0.04 seconds (0.00 work units)\n",
            "Thread count was 2 (of 2 available processors)\n",
            "\n",
            "Solution count 3: 988540 989150 1.3203e+06 \n",
            "\n",
            "Optimal solution found (tolerance 1.00e-04)\n",
            "Best objective 9.885400000000e+05, best bound 9.885400000000e+05, gap 0.0000%\n"
          ]
        }
      ]
    },
    {
      "cell_type": "markdown",
      "source": [
        "## Incorporating Hydropower Plants : Model 3.1"
      ],
      "metadata": {
        "id": "kE7t0PEsy8mS"
      }
    },
    {
      "cell_type": "markdown",
      "source": [
        "In addition to thermal units, two hydroelectric generators are available. Each produces a fixed amount of power when activated:\n",
        "\n",
        "| Hydro Plant | Output (MW) |\n",
        "|-------------|-------------|\n",
        "| A           | 900         |\n",
        "| B           | 1400        |\n",
        "\n",
        "Unlike thermal generators, hydroelectric units have a distinct cost structure:\n",
        "\n",
        "- A small hourly operating cost\n",
        "- A startup cost incurred when the unit is turned on\n",
        "- A reservoir depletion cost, reflecting the reduction in water level over time\n",
        "\n",
        "| Hydro Plant | Hourly Cost (€/hr) | Startup Cost (€) | Reservoir Depletion Rate (m/hr) |\n",
        "|-------------|-------------|--------------|---------------------------|\n",
        "| A           | 90         | 1500        | 0.31                      |\n",
        "| B           | 150        | 1200        | 0.47                      |\n",
        "\n",
        "To maintain sustainability, the reservoir must be fully replenished by the end of the time horizon. Replenishment is achieved by pumping water back into the reservoir, which consumes electricity at a rate of **3000 MWh per meter of elevation**.\n",
        "\n",
        "#### **Reserve Requirement**\n",
        "\n",
        "Generators must not only meet the forecasted demand but also maintain sufficient reserve capacity to handle unexpected surges. In this model, the combined capacity of selected thermal and hydro units must be at least **115% of the predicted demand** at each time period.\n",
        "\n",
        "#### **Decision Variables**\n",
        "\n",
        "- $H_{h,t} \\in \\{0,1\\}$: Binary variable indicating whether hydro unit $h$ is on at time $t$.\n",
        "- $b_{h,t} \\in \\{0,1\\}$: Binary variable indicating whether hydro unit $h$ is **activated** at time $t$ (i.e., turned on).\n",
        "- $ \\text{Pumping}_t \\in \\mathbb{R}_{\\geq 0} $: Amount of electricity used to pump water into the reservoir during time period $t$\n",
        "- $ \\text{Height}_t \\in \\mathbb{R}_{\\geq 0} $: Water level (in meters) of the reservoir at time period $t$\n",
        "\n",
        "#### **Startup of Hydroelectric Plants**\n",
        "\n",
        "To track hydro unit startups, we define:\n",
        "\n",
        "$b_{h,t} \\geq H_{h,t} - H_{h,t-1}$\n",
        "\n",
        "This constraint ensures that $b_{h,t} = 1$ only when a unit transitions from off to on.\n",
        "\n",
        "#### **Updated Demand and Reserve Constraints**\n",
        "\n",
        "We remove the original demand and reserve constraints and replace them with updated versions that include hydro units $\\forall t \\in \\mathcal{T}$, while accounting for the cost (in terms of energy) that is proportional to the amount of energy required to raise the water level.  :\n",
        "\n",
        "- **Demand Satisfaction**  \n",
        "  $\\sum_{i \\in \\mathcal{I}} P_{i,t} + \\sum_{h \\in \\mathcal{H}} H_{h,t} \\cdot P^{\\text{hyd}}_h \\geq \\text{load}_t + pumping_t$\n",
        "\n",
        "- **Reserve Requirement**  \n",
        "  $\\sum_{i \\in \\mathcal{I}} Y_{i,t} \\cdot P^{\\text{max}}_i + \\sum_{h \\in \\mathcal{H}} (1 - H_{h,t}) \\cdot P^{\\text{hyd}}_h \\geq (1 + r) \\cdot \\text{load}_t$\n",
        "\n",
        "Note: The hydro units contribute to reserve **only when they are off**, since they can be quickly activated.\n",
        "\n",
        "#### **Updated Objective Function**\n",
        "\n",
        "We augment the original objective function to include:\n",
        "\n",
        "- Hourly operating costs for hydro units: $C^{\\text{hyd}}_h$\n",
        "- Startup costs for hydro units: $\\text{StartHyd}_h$\n",
        "\n",
        "The new objective becomes:\n",
        "\n",
        "$\\min \\left[ \\text{Original Objective} + \\sum_{t \\in \\mathcal{T}} \\sum_{h \\in \\mathcal{H}} \\left( C^{\\text{hyd}}_h \\cdot H_{h,t} \\cdot d_t + \\text{StartHyd}_h \\cdot b_{h,t} \\right) \\right]$\n",
        "\n",
        "#### **Reservoir Balance Constraint**\n",
        "\n",
        "To track the evolution of the reservoir level over time, we define a **reservoir height balance** equation for each time period $t \\in \\mathcal{T}$:\n",
        "\n",
        "$\\text{Height}_t = \\text{Height}_{prev(t)} + \\dfrac{d_t \\cdot \\text{Pumping}_t}{3000} - \\sum_{h \\in \\mathcal{H}} H_{h,t} \\cdot d_t \\cdot v_h$\n",
        "\n",
        "With $v_h$ being the velocity of water level reduction for Hydropower plant $h$ (m/h).\n",
        "\n",
        "**Note:** If the **cyclic** mode is not enabled, the expression $prev(t)$ should be replaced with $t - 1$ for all $t \\geq 2$. Additionally, a separate constraint must be introduced to handle the transition between the last and first periods, ensuring continuity across the time horizon."
      ],
      "metadata": {
        "id": "0uUC-YGmj0Oi"
      }
    },
    {
      "cell_type": "code",
      "source": [
        "hydro, Phyd, vitesse,StartHyd,Chyd = gp.multidict({1: [900,0.31,1500,90], 2:[1400,0.47, 1200, 150]})"
      ],
      "metadata": {
        "id": "ZZH0sLtSy--Q"
      },
      "execution_count": 11,
      "outputs": []
    },
    {
      "cell_type": "code",
      "source": [
        "indices_hydro = [(h,t) for h in hydro for t in periods]\n",
        "\n",
        "H = model.addVars(indices_hydro, vtype=gp.GRB.BINARY,name=[f'H{h}{t}' for h,t in indices_hydro])\n",
        "b = model.addVars(indices_hydro, vtype=gp.GRB.BINARY,name=[f'b{h}{t}' for h,t in indices_hydro])\n",
        "pumping = model.addVars(periods, lb = 0, vtype=gp.GRB.CONTINUOUS,name=[f'Pumping{t}' for t in periods])\n",
        "height = model.addVars(periods, lb = 0, vtype=gp.GRB.CONTINUOUS,name=[f'Reservoir height{t}' for t in periods])\n",
        "\n",
        "for t in periods:\n",
        "  for h in hydro:\n",
        "    model.addConstr(b[h,t] >= H[h,t] - H[h,prev(t,option)], name=f'Activated_Hydro_{h},{t}')\n",
        "  model.remove(model.getConstrByName(f'Reserve_{t}'))\n",
        "  model.remove(model.getConstrByName(f'Demand_{t}'))\n",
        "  model.addConstr(gp.quicksum(P[i,t] for i in types) + gp.quicksum((H[h,t])*Phyd[h] for h in hydro) >= load[t-1] + pumping[t] , name=f'Demand_{t}')\n",
        "  model.addConstr(gp.quicksum(Y[i,t]*Pmax[i] for i in types) + gp.quicksum((1-H[h,t])*Phyd[h] for h in hydro) >= (1+r)*load[t-1], name=f'Reserve_{t}')\n",
        "  model.addConstr(height[t] == height[prev(t)] + duration[t-1]*pumping[t]/3000 - gp.quicksum(H[h,t]*duration[t-1]*vitesse[h] for h in hydro))\n",
        "\n",
        "obj = model.getObjective()\n",
        "model.setObjective(obj + gp.quicksum(Chyd[h]*H[h,t]*duration[t-1] + StartHyd[h]*b[h,t] for h,t in indices_hydro),gp.GRB.MINIMIZE)\n",
        "\n",
        "model.update()\n",
        "model.optimize()"
      ],
      "metadata": {
        "colab": {
          "base_uri": "https://localhost:8080/"
        },
        "id": "HuQGQCN5y_dW",
        "outputId": "ba5876a6-fd24-4e5e-fccc-ac17e2fef5fd"
      },
      "execution_count": 15,
      "outputs": [
        {
          "output_type": "stream",
          "name": "stdout",
          "text": [
            "Gurobi Optimizer version 12.0.3 build v12.0.3rc0 (linux64 - \"Ubuntu 22.04.4 LTS\")\n",
            "\n",
            "CPU model: Intel(R) Xeon(R) CPU @ 2.20GHz, instruction set [SSE2|AVX|AVX2]\n",
            "Thread count: 1 physical cores, 2 logical processors, using up to 2 threads\n",
            "\n",
            "Optimize a model with 85 rows, 115 columns and 230 nonzeros\n",
            "Model fingerprint: 0x86a29874\n",
            "Variable types: 25 continuous, 90 integer (60 binary)\n",
            "Coefficient statistics:\n",
            "  Matrix range     [1e-03, 4e+03]\n",
            "  Objective range  [4e+00, 9e+03]\n",
            "  Bounds range     [1e+00, 1e+00]\n",
            "  RHS range        [5e+00, 4e+04]\n",
            "\n",
            "MIP start from previous solve produced solution with objective 990730 (0.01s)\n",
            "MIP start from previous solve produced solution with objective 989890 (0.01s)\n",
            "MIP start from previous solve produced solution with objective 988540 (0.02s)\n",
            "MIP start from previous solve produced solution with objective 988360 (0.02s)\n",
            "Loaded MIP start from previous solve with objective 988360\n",
            "\n",
            "Presolve removed 30 rows and 40 columns\n",
            "Presolve time: 0.00s\n",
            "Presolved: 55 rows, 75 columns, 200 nonzeros\n",
            "Variable types: 25 continuous, 50 integer (20 binary)\n",
            "\n",
            "Root relaxation: objective 9.850143e+05, 36 iterations, 0.00 seconds (0.00 work units)\n",
            "\n",
            "    Nodes    |    Current Node    |     Objective Bounds      |     Work\n",
            " Expl Unexpl |  Obj  Depth IntInf | Incumbent    BestBd   Gap | It/Node Time\n",
            "\n",
            "     0     0 985014.286    0    7 988360.000 985014.286  0.34%     -    0s\n",
            "     0     0 985556.142    0   12 988360.000 985556.142  0.28%     -    0s\n",
            "     0     0 985740.300    0   12 988360.000 985740.300  0.27%     -    0s\n",
            "     0     0 985814.126    0   10 988360.000 985814.126  0.26%     -    0s\n",
            "     0     0 985955.733    0   18 988360.000 985955.733  0.24%     -    0s\n",
            "     0     0 985955.733    0   12 988360.000 985955.733  0.24%     -    0s\n",
            "     0     0 985955.733    0   18 988360.000 985955.733  0.24%     -    0s\n",
            "     0     0 985955.733    0   13 988360.000 985955.733  0.24%     -    0s\n",
            "     0     0 985955.733    0   14 988360.000 985955.733  0.24%     -    0s\n",
            "     0     0 985955.733    0   14 988360.000 985955.733  0.24%     -    0s\n",
            "     0     0 985955.733    0   14 988360.000 985955.733  0.24%     -    0s\n",
            "H    0     0                    988040.00000 985955.733  0.21%     -    0s\n",
            "     0     2 985955.733    0   14 988040.000 985955.733  0.21%     -    0s\n",
            "H    9     5                    987630.00000 985955.733  0.17%   3.2    0s\n",
            "H    9     5                    987140.00000 985955.733  0.12%   3.2    0s\n",
            "H   35     7                    987130.00000 986429.107  0.07%   3.5    0s\n",
            "H   38     8                    986880.00000 986465.720  0.04%   3.4    0s\n",
            "\n",
            "Cutting planes:\n",
            "  MIR: 9\n",
            "\n",
            "Explored 46 nodes (229 simplex iterations) in 0.17 seconds (0.01 work units)\n",
            "Thread count was 2 (of 2 available processors)\n",
            "\n",
            "Solution count 9: 986880 987130 987140 ... 990730\n",
            "\n",
            "Optimal solution found (tolerance 1.00e-04)\n",
            "Best objective 9.868800000000e+05, best bound 9.868128119961e+05, gap 0.0068%\n"
          ]
        }
      ]
    },
    {
      "cell_type": "markdown",
      "source": [
        "### 5.3"
      ],
      "metadata": {
        "id": "pbm4ElDomyop"
      }
    },
    {
      "cell_type": "code",
      "source": [
        "paliers = {1 : {(1,1) : [900, 0.31, 90], (1,2) : [950, 0.33, 95], (1,3): [1000, 0.35, 105], (1,4): [1100, 0.38, 120]},\n",
        "2 : {(2,1) : [1400, 0.47, 150], (2,2) : [1500, 0.5, 165], (2,3): [1600, 0.53, 185], (2,4): [1700, 0.56, 210]} }"
      ],
      "metadata": {
        "collapsed": true,
        "id": "FUwjX8s0mSUX"
      },
      "execution_count": null,
      "outputs": []
    },
    {
      "cell_type": "code",
      "source": [
        "keys, Phyd, vitesse,Chyd = gp.multidict({(1,1) : [900, 0.31, 90], (1,2) : [950, 0.33, 95], (1,3): [1000, 0.35, 105], (1,4): [1100, 0.38, 120],\n",
        "                                 (2,1) : [1400, 0.47, 150], (2,2) : [1500, 0.5, 165], (2,3): [1600, 0.53, 185], (2,4): [1700, 0.56, 210]\n",
        "                                 })"
      ],
      "metadata": {
        "id": "QE7DwUnCs0WH"
      },
      "execution_count": null,
      "outputs": []
    },
    {
      "cell_type": "code",
      "source": [
        "# Hhtj\n",
        "model.remove(H)\n",
        "indices_hydro = [(h,t,j) for h in hydro for t in periods for j in range(1,5)]   # j is the index of the current palier\n",
        "H = model.addVars(indices_hydro, vtype=gp.GRB.BINARY,name=[f'H{h}{t}{j}' for h,t,j in indices_hydro])\n",
        "#demand\n",
        "for t in periods:\n",
        "  model.remove(model.getConstrByName(f'Demand_{t}'))\n",
        "  model.addConstr(gp.quicksum(P[i,t] for i in types) + gp.quicksum(H[h,t,j]*(Phyd[h,j]-vitesse[h,j]*duration[t-1]*Cpompage) for h in hydro for j in range(1,5)) >= load[t-1], name=f'Demand_{t}')\n",
        "#reserve\n",
        "  model.remove(model.getConstrByName(f'Reserve_{t}'))\n",
        "  model.addConstr(gp.quicksum(Y[i,t]*Pmax[i] for i in types) + gp.quicksum((1-H[h,t,j])*Phyd[h,j] + H[h,t,j]*(-vitesse[h,j]*duration[t-1]*Cpompage) for h in hydro for j in range(1,5)) >= (1+r)*load[t-1], name=f'Reserve_{t}')\n",
        "# bht\n",
        "  model.remove(model.getConstrByName(f'Activated_Hydro_{h},{t}'))\n",
        "  for h in hydro:\n",
        "      model.addConstr(b[h,t] >= gp.quicksum(H[h,t,j] - H[h,prev(t,option),j] for j in range(1,5)), name=f'Activated_Hydro_{h},{t}')\n",
        "\n",
        "Newobj = gp.quicksum((costs[i]*P[i,t]+ Cbase[i]*Y[i,t] - costs[i]*Pmin[i]*Y[i,t])*duration[t-1]+Cstart[i]*d[i,t] for i,t in indices)\n",
        "Newobj += gp.quicksum(Chyd[h,j]*H[h,t,j]*duration[t-1] for h,t,j in indices_hydro)\n",
        "Newobj += gp.quicksum( StartHyd[h]*b[h,t] for h in hydro for t in periods )\n",
        "\n",
        "model.setObjective(Newobj,gp.GRB.MINIMIZE)\n",
        "model.update()\n",
        "model.optimize()"
      ],
      "metadata": {
        "id": "Ii3Kz7NLnEWz"
      },
      "execution_count": null,
      "outputs": []
    },
    {
      "cell_type": "code",
      "source": [],
      "metadata": {
        "id": "iR4TR8WNx89M"
      },
      "execution_count": null,
      "outputs": []
    }
  ]
}